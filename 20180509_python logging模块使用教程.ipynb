{
 "cells": [
  {
   "cell_type": "markdown",
   "metadata": {},
   "source": [
    "### Python 中logging使用指南\n",
    "* [官方参考文档:PEP 282 -- A Logging System](https://www.python.org/dev/peps/pep-0282/#abstract)\n",
    "* [参考文档1:使用python的logging模块](http://kenby.iteye.com/blog/1162698)\n",
    "* [参考文档2:python logging模块使用教程](https://www.jianshu.com/p/feb86c06c4f4)\n",
    "* [参考文档3:Python logging 模块使用指南](http://www.codebelief.com/article/2017/05/python-logging-module-tutorial/)"
   ]
  },
  {
   "cell_type": "code",
   "execution_count": 1,
   "metadata": {},
   "outputs": [
    {
     "name": "stderr",
     "output_type": "stream",
     "text": [
      "2018-05-09 10:18:24,807 - mylogger - INFO - foorbar\n"
     ]
    }
   ],
   "source": [
    "import logging  \n",
    "  \n",
    "# 创建一个logger  \n",
    "logger = logging.getLogger('mylogger')  \n",
    "logger.setLevel(logging.DEBUG)  \n",
    "  \n",
    "# 创建一个handler，用于写入日志文件  \n",
    "fh = logging.FileHandler('test.log')  \n",
    "fh.setLevel(logging.DEBUG)  \n",
    "  \n",
    "# 再创建一个handler，用于输出到控制台  \n",
    "ch = logging.StreamHandler()  \n",
    "ch.setLevel(logging.DEBUG)  \n",
    "  \n",
    "# 定义handler的输出格式  \n",
    "formatter = logging.Formatter('%(asctime)s - %(name)s - %(levelname)s - %(message)s')  \n",
    "fh.setFormatter(formatter)  \n",
    "ch.setFormatter(formatter)  \n",
    "  \n",
    "# 给logger添加handler  \n",
    "logger.addHandler(fh)  \n",
    "logger.addHandler(ch)  \n",
    "  \n",
    "# 记录一条日志  \n",
    "logger.info('foorbar')  "
   ]
  },
  {
   "cell_type": "markdown",
   "metadata": {},
   "source": [
    "* 运行之后控制台输出日志，另外在相同的目录之下创建一个test.log用于记录日志，里面也存放着相同的内容。\n",
    "* 要在日志中显示日期和时间，你需要在格式串中加入 %(asctime)s,格式串中的时间格式参数与中支持的参数相同。\n",
    "[strftime](https://docs.python.org/2/library/time.html#time.strftime)"
   ]
  },
  {
   "cell_type": "markdown",
   "metadata": {},
   "source": [
    "* %(message)s 是可以输入到格式化的数据，比如这里的'foorbar'"
   ]
  },
  {
   "cell_type": "markdown",
   "metadata": {},
   "source": [
    "### 一. logging模块常用的API"
   ]
  },
  {
   "cell_type": "markdown",
   "metadata": {},
   "source": [
    "`\n",
    "1.logging.getLogger([name])\n",
    "`\n",
    "* 返回一个logger实例，如果没有指定name，返回root logger。\n",
    "* 只要name相同，返回的logger实例都是同一个而且只有一个，即name和logger实例是\n",
    " 一一对应的。这意味着，无需把logger实例在各个模块中传递。只要知道name，就能得到同一个logger实例。\n",
    "* Logger是一个树形层级结构，在使用接口debug，info，warn，error，critical之前必须创建Logger实例，即创建一个记录器，如果没有显式的进行创建，则默认创建一个root logger，并应用默认的日志级别(WARN)，处理器Handler(StreamHandler，即将日志信息打印输出在标准输出上)，和格式化器Formatter(默认的格式即为第一个简单使用程序中输出的格式)。\n",
    "\n"
   ]
  },
  {
   "cell_type": "markdown",
   "metadata": {},
   "source": [
    "* 创建Logger实例后，可以使用以下方法进行日志级别设置，增加处理器Handler。\n",
    "    - logger.setLevel(logging.ERROR) # 设置日志级别为ERROR，即只有日志级别大于等于ERROR的日志才会输出\n",
    "    - logger.addHandler(handler_name) # 为Logger实例增加一个处理器\n",
    "    -logger.removeHandler(handler_name) # 为Logger实例删除一个处理器"
   ]
  },
  {
   "cell_type": "markdown",
   "metadata": {},
   "source": [
    "`\n",
    "2.Logger.setLevel(lvl)\n",
    "`\n",
    "* 设置logger的level， level有以下几个级别：\n",
    "\n",
    "![图片](http://dl2.iteye.com/upload/attachment/0054/7240/00387a13-d44d-30ef-8a95-2b7c09adc2b2.png)\n",
    "\n",
    "* NOTSET < DEBUG < INFO < WARNING < ERROR < CRITICAL\n",
    "\n",
    "* 如果把looger的级别设置为INFO， 那么小于INFO级别的日志都不输出， 大于等于INFO级别的日志都输出\n",
    "\n",
    "*  级别\t何时使用\n",
    "    - DEBUG\t**详细信息，典型地调试问题时会感兴趣。**\n",
    "    - INFO\t**证明事情按预期工作。**\n",
    "    - WARNING\t**表明发生了一些意外，或者不久的将来会发生问题（如‘磁盘满了’）。软件还是在正常工作。**\n",
    "    - ERROR\t**由于更严重的问题，软件已不能执行一些功能了。**\n",
    "    - CRITICAL\t**严重错误，表明软件已不能继续运行了。**\n"
   ]
  },
  {
   "cell_type": "code",
   "execution_count": 7,
   "metadata": {},
   "outputs": [
    {
     "name": "stderr",
     "output_type": "stream",
     "text": [
      "DEBUG:debug message\n",
      "2018-05-09 10:58:22,325 - DEBUG - debug message\n",
      "INFO:info message\n",
      "2018-05-09 10:58:22,326 - INFO - info message\n",
      "/usr/local/anaconda3/lib/python3.6/site-packages/ipykernel_launcher.py:10: DeprecationWarning: The 'warn' function is deprecated, use 'warning' instead\n",
      "  # Remove the CWD from sys.path while we load stuff.\n",
      "WARNING:warn message\n",
      "2018-05-09 10:58:22,327 - WARNING - warn message\n",
      "ERROR:error message\n",
      "2018-05-09 10:58:22,328 - ERROR - error message\n",
      "CRITICAL:critical message\n",
      "2018-05-09 10:58:22,329 - CRITICAL - critical message\n"
     ]
    }
   ],
   "source": [
    "#!/usr/local/bin/python\n",
    "# -*- coding:utf-8 -*-\n",
    "import logging\n",
    "\n",
    "# 通过下面的方式进行简单配置输出方式与日志级别\n",
    "logging.basicConfig(filename='logger.log', level=logging.INFO)\n",
    "\n",
    "logging.debug('debug message')\n",
    "logging.info('info message')\n",
    "logging.warn('warn message')\n",
    "logging.error('error message')\n",
    "logging.critical('critical message')\n",
    " "
   ]
  },
  {
   "cell_type": "markdown",
   "metadata": {},
   "source": [
    "`\n",
    "3.Logger.addHandler(hdlr)\n",
    "`\n",
    "* logger可以雇佣handler来帮它处理日志， handler主要有以下几种：\n",
    "* [StreamHandler](https://docs.python.org/3/library/logging.handlers.html#logging.StreamHandler): 输出到控制台\n",
    "* [FileHandler](https://docs.python.org/3/library/logging.handlers.html#logging.FileHandler):   输出到文件\n",
    "* handler还可以设置自己的level以及输出格式。"
   ]
  },
  {
   "cell_type": "markdown",
   "metadata": {},
   "source": [
    "`\n",
    "4.logging.basicConfig([**kwargs])\n",
    "`\n",
    "* 这个函数用来配置root logger， 为root logger创建一个StreamHandler，\n",
    "   设置默认的格式。\n",
    "* 这些函数： logging.debug()、logging.info()、logging.warning()、\n",
    "   logging.error()、logging.critical() 如果调用的时候发现root logger没有任何\n",
    "   handler， 会自动调用basicConfig添加一个handler\n",
    "* 如果root logger已有handler， 这个函数不做任何事情\n",
    "\n",
    "* 使用basicConfig来配置root logger的输出格式和level："
   ]
  },
  {
   "cell_type": "code",
   "execution_count": 3,
   "metadata": {},
   "outputs": [
    {
     "name": "stderr",
     "output_type": "stream",
     "text": [
      "DEBUG:This message should appear on the console\n"
     ]
    }
   ],
   "source": [
    "import logging  \n",
    "logging.basicConfig(format='%(levelname)s:%(message)s', level=logging.DEBUG)  \n",
    "logging.debug('This message should appear on the console')  "
   ]
  },
  {
   "cell_type": "markdown",
   "metadata": {},
   "source": [
    "###  二、关于root logger以及logger的父子关系"
   ]
  },
  {
   "cell_type": "markdown",
   "metadata": {},
   "source": [
    "* 前面多次提到root logger， 实际上logger实例之间还有父子关系， root logger就是处于最顶层的logger，它是所有logger的祖先。如下图:\n",
    " ![figure](http://dl2.iteye.com/upload/attachment/0054/7286/8e73f2aa-9c51-345d-9a6b-8c1cd47d5c81.png)"
   ]
  },
  {
   "cell_type": "markdown",
   "metadata": {},
   "source": [
    "#### (1)root logger是默认的logger\n",
    "* 如果不创建logger实例， 直接调用logging.debug()、logging.info()logging.warning()、logging.error()、logging.critical()这些函数，\n",
    " 那么使用的logger就是 root logger， 它可以自动创建，也是单实例的。\n",
    "\n",
    "#### (2)如何得到root logger?\n",
    "* 通过logging.getLogger()或者logging.getLogger(\"\")得到root logger实例。\n",
    "\n",
    "#### (2)默认的level\n",
    "* root logger默认的level是logging.WARNING\n",
    "\n",
    "#### (3)如何表示父子关系?\n",
    "* logger的name的命名方式可以表示logger之间的父子关系. 比如：parent_logger = logging.getLogger('foo')child_logger = logging.getLogger('foo.bar')\n",
    "\n",
    "#### (4)什么是effective level?\n",
    "* logger有一个概念，叫effective level。 如果一个logger没有显示地设置level，那么它就用父亲的level。如果父亲也没有显示地设置level， 就用父亲的父亲的level，以此推....最后到达root logger，一定设置过level。默认为logging.WARNINGchild loggers得到消息后，既把消息分发给它的handler处理，也会传递给所有祖先logger处理，\n"
   ]
  },
  {
   "cell_type": "code",
   "execution_count": 4,
   "metadata": {},
   "outputs": [
    {
     "name": "stderr",
     "output_type": "stream",
     "text": [
      "2018-05-09 10:51:26,674 - foo\n",
      "DEBUG:foo\n",
      "2018-05-09 10:51:26,674 - DEBUG - foo\n"
     ]
    }
   ],
   "source": [
    "import logging  \n",
    "  \n",
    "# 设置root logger  \n",
    "r = logging.getLogger()  \n",
    "ch = logging.StreamHandler()  \n",
    "ch.setLevel(logging.DEBUG)  \n",
    "formatter = logging.Formatter('%(asctime)s - %(levelname)s - %(message)s')  \n",
    "ch.setFormatter(formatter)  \n",
    "r.addHandler(ch)  \n",
    "  \n",
    "# 创建一个logger作为父亲  \n",
    "p = logging.getLogger('foo')  \n",
    "p.setLevel(logging.DEBUG)  \n",
    "ch = logging.StreamHandler()  \n",
    "ch.setLevel(logging.DEBUG)  \n",
    "formatter = logging.Formatter('%(asctime)s - %(message)s')  \n",
    "ch.setFormatter(formatter)  \n",
    "p.addHandler(ch)  \n",
    "  \n",
    "# 创建一个孩子logger  \n",
    "c = logging.getLogger('foo.bar')  \n",
    "c.debug('foo')  "
   ]
  },
  {
   "cell_type": "markdown",
   "metadata": {},
   "source": [
    "* 可见， 孩子logger没有任何handler，所以对消息不做处理。但是它把消息转发给了它的父亲以及root logger。最后输出两条日志。"
   ]
  }
 ],
 "metadata": {
  "kernelspec": {
   "display_name": "Python 3",
   "language": "python",
   "name": "python3"
  },
  "language_info": {
   "codemirror_mode": {
    "name": "ipython",
    "version": 3
   },
   "file_extension": ".py",
   "mimetype": "text/x-python",
   "name": "python",
   "nbconvert_exporter": "python",
   "pygments_lexer": "ipython3",
   "version": "3.6.3"
  }
 },
 "nbformat": 4,
 "nbformat_minor": 2
}
