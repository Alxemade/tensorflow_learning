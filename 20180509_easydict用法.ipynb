{
 "cells": [
  {
   "cell_type": "markdown",
   "metadata": {},
   "source": [
    "### python中的easydict使用"
   ]
  },
  {
   "cell_type": "markdown",
   "metadata": {},
   "source": [
    "*  EasyDict可以让你像访问属性一样访问dict里的变量。"
   ]
  },
  {
   "cell_type": "code",
   "execution_count": 16,
   "metadata": {},
   "outputs": [
    {
     "name": "stdout",
     "output_type": "stream",
     "text": [
      "3\n",
      "2\n"
     ]
    }
   ],
   "source": [
    "d = {'foo':3, 'bar':{'x':1, 'y':2}}\n",
    "print(d['foo'])  # 如何想要访问字典的元素需要这么写\n",
    "print(d['bar']['y'])  # 如果想要继续访问字典中字典的元素需要使用二维数组\n",
    "# print(d.foo) 这样写会出错哦！\n"
   ]
  },
  {
   "cell_type": "markdown",
   "metadata": {},
   "source": [
    "#### 但是感觉这样太麻烦了，有没有更简单的方法使用字典了？\n",
    "* 我们可以使用easydict模块！"
   ]
  },
  {
   "cell_type": "code",
   "execution_count": 9,
   "metadata": {},
   "outputs": [
    {
     "name": "stdout",
     "output_type": "stream",
     "text": [
      "3\n",
      "3\n",
      "1\n"
     ]
    }
   ],
   "source": [
    "from easydict import EasyDict as edict\n",
    "easy = edict(d = {'foo':3, 'bar':{'x':1, 'y':2}}) # 将普通的字典传入到edict()\n",
    "print(easy['foo'])  # 这是传统的方法\n",
    "print(easy.foo)  # 这是我们使用easydict输出二者结果是一样的，但是可以更为方便的使用字典了\n",
    "print(easy.bar.x)  # 我们也是可以很方便的使用字典中字典的元素了\n"
   ]
  },
  {
   "cell_type": "markdown",
   "metadata": {},
   "source": [
    "### Easydict的其他用法"
   ]
  },
  {
   "cell_type": "markdown",
   "metadata": {},
   "source": [
    "#### 1.设置属性"
   ]
  },
  {
   "cell_type": "code",
   "execution_count": 17,
   "metadata": {},
   "outputs": [
    {
     "name": "stdout",
     "output_type": "stream",
     "text": [
      "{'foo': 3, 'bar': {'prob': 'newer'}}\n"
     ]
    }
   ],
   "source": [
    "from easydict import EasyDict as edict\n",
    "d = edict()  # 这个是输出{}\n",
    "d.foo = 3  # 我们可以直接赋值语句对字典元素进行创建\n",
    "d.bar = {'prob':'value'}  # 另外我们也可以创建字典中的字典\n",
    "d.bar.prob = 'newer'  # 另外我们也可以很方便的修改字典中元素的值\n",
    "print(d)"
   ]
  },
  {
   "cell_type": "markdown",
   "metadata": {
    "collapsed": true
   },
   "source": [
    "* 还有其他的一些用法，可以参考[官方文档](https://pypi.org/project/easydict/1.2/)"
   ]
  },
  {
   "cell_type": "code",
   "execution_count": 32,
   "metadata": {},
   "outputs": [
    {
     "name": "stdout",
     "output_type": "stream",
     "text": [
      "{'TRAIN': {'batch_size': 25, 'early_stopping_num': 10, 'lr': 0.0001}, 'Test': {}}\n"
     ]
    }
   ],
   "source": [
    "from easydict import EasyDict as edict\n",
    "config = edict()\n",
    "config.TRAIN = edict() # 创建一个字典，key是Train,值是{}\n",
    "config.Test = edict()\n",
    "# # config.TRAIN = {} # 这个和上面的那句话是等价的，相当于创建一个字典的key\n",
    "config.TRAIN.batch_size = 25  # 然后在里面写值,表示Train里面的value也是一个字典\n",
    "config.TRAIN.early_stopping_num = 10\n",
    "config.TRAIN.lr = 0.0001\n",
    "print(config)"
   ]
  },
  {
   "cell_type": "code",
   "execution_count": null,
   "metadata": {
    "collapsed": true
   },
   "outputs": [],
   "source": []
  }
 ],
 "metadata": {
  "kernelspec": {
   "display_name": "Python 3",
   "language": "python",
   "name": "python3"
  },
  "language_info": {
   "codemirror_mode": {
    "name": "ipython",
    "version": 3
   },
   "file_extension": ".py",
   "mimetype": "text/x-python",
   "name": "python",
   "nbconvert_exporter": "python",
   "pygments_lexer": "ipython3",
   "version": "3.6.3"
  }
 },
 "nbformat": 4,
 "nbformat_minor": 2
}
