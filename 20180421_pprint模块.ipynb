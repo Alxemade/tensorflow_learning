{
 "cells": [
  {
   "cell_type": "markdown",
   "metadata": {},
   "source": [
    "### pprint模块 提供了打印出任何Python数据结构类和方法。\n",
    "[参考文章](https://blog.csdn.net/hxpjava1/article/details/73379642)"
   ]
  },
  {
   "cell_type": "markdown",
   "metadata": {},
   "source": [
    "` 1. class pprint.PrettyPrinter(indent=1,width=80,depth=None, stream=None)     \n",
    "`\n",
    "* 创建一个PrettyPrinter对象\n",
    "\n",
    "* indent --- 缩进，width --- 一行最大宽度，\n",
    "\n",
    "* depth --- 打印的深度，这个主要是针对一些可递归的对象，如果超出指定depth，其余的用\"...\"代替。\n",
    "\n",
    "                 eg: a=[1,2,[3,4,],5]  a的深度就是2; b=[1,2,[3,4,[5,6]],7,8] b的深度就是3\n",
    "\n",
    "* stream ---指输出流对象，如果stream=None，那么输出流对象默认是sys.stdout\n"
   ]
  },
  {
   "cell_type": "markdown",
   "metadata": {},
   "source": [
    "` 2. pprint.pformat(object,indent=1,width=80, depth=None) \n",
    "`\n",
    "* 返回格式化的对象字符串\n"
   ]
  },
  {
   "cell_type": "markdown",
   "metadata": {},
   "source": [
    "` 3.pprint.pprint(object,stream=None,indent=1, width=80, depth=None) \n",
    "`\n",
    " * 输出格式的对象字符串到指定的stream,最后以换行符结束。"
   ]
  },
  {
   "cell_type": "markdown",
   "metadata": {},
   "source": [
    "` 4.pprint.isreadable(object) \n",
    "`\n",
    "* 判断对象object的字符串对象是否可读"
   ]
  },
  {
   "cell_type": "markdown",
   "metadata": {},
   "source": [
    "` 5.pprint.isrecursive(object) \n",
    "`\n",
    "* 判断对象是否需要递归的表示\n",
    "\n",
    "* eg: pprint.isrecursive(a)  --->False\n",
    "\n",
    "        pprint.isrecursive([1,2,3])-->True"
   ]
  },
  {
   "cell_type": "markdown",
   "metadata": {},
   "source": [
    "`6.pprint.saferepr(object) \n",
    "`\n",
    "* 返回一个对象字符串，对象中的子对象如果是可递归的，都被替换成Recursionontypename withid=number.这种形式。\n",
    "\n"
   ]
  },
  {
   "cell_type": "markdown",
   "metadata": {},
   "source": [
    "#### PrettyPrinter 对象具有的方法与上面类似，不在赘述"
   ]
  },
  {
   "cell_type": "code",
   "execution_count": 2,
   "metadata": {},
   "outputs": [
    {
     "name": "stdout",
     "output_type": "stream",
     "text": [
      "('this is a string',\n",
      " [1, 2, 3, 4],\n",
      " ('more tuples', 1.0, 2.3, 4.5),\n",
      " 'this is yet another string')\n"
     ]
    }
   ],
   "source": [
    "import pprint \n",
    "data = (  \n",
    "    \"this is a string\", [1, 2, 3, 4], (\"more tuples\",  \n",
    "    1.0, 2.3, 4.5), \"this is yet another string\"  \n",
    "    )  \n",
    "pprint.pprint(data)"
   ]
  },
  {
   "cell_type": "markdown",
   "metadata": {},
   "source": [
    "* pprint – 美观打印\n",
    "\n",
    "* 作用：美观打印数据结构\n",
    "\n",
    "* pprint 包含一个“美观打印机”，用于生成数据结构的一个美观视图。格式化工具会生成数据结构的一些表示，不仅可以由解释器正确地解析，而且便于人类阅读。输出尽可能放在一行上，分解为多行时则需要缩进"
   ]
  },
  {
   "cell_type": "markdown",
   "metadata": {
    "collapsed": true
   },
   "source": [
    "### 简单的例子"
   ]
  },
  {
   "cell_type": "code",
   "execution_count": 1,
   "metadata": {},
   "outputs": [
    {
     "name": "stdout",
     "output_type": "stream",
     "text": [
      "{'epoch': <absl.flags._flag.Flag object at 0x7f89a06ffac8>,\n",
      " 'h': <tensorflow.python.platform.app._HelpFlag object at 0x7f896eb7dcf8>,\n",
      " 'help': <tensorflow.python.platform.app._HelpFlag object at 0x7f896eb7dcf8>,\n",
      " 'helpfull': <tensorflow.python.platform.app._HelpfullFlag object at 0x7f896eb7def0>,\n",
      " 'helpshort': <tensorflow.python.platform.app._HelpshortFlag object at 0x7f896eb7dd68>,\n",
      " 'learning_rate': <absl.flags._flag.Flag object at 0x7f896eb7dd30>,\n",
      " 'sample_dir': <absl.flags._flag.Flag object at 0x7f896eb7db70>,\n",
      " 'train': <absl.flags._flag.BooleanFlag object at 0x7f896eb7de10>}\n",
      "20\n"
     ]
    },
    {
     "ename": "SystemExit",
     "evalue": "",
     "output_type": "error",
     "traceback": [
      "An exception has occurred, use %tb to see the full traceback.\n",
      "\u001b[0;31mSystemExit\u001b[0m\n"
     ]
    },
    {
     "name": "stderr",
     "output_type": "stream",
     "text": [
      "/home/xuchao/.conda/envs/tensorflow/lib/python3.6/site-packages/IPython/core/interactiveshell.py:2918: UserWarning: To exit: use 'exit', 'quit', or Ctrl-D.\n",
      "  warn(\"To exit: use 'exit', 'quit', or Ctrl-D.\", stacklevel=1)\n"
     ]
    }
   ],
   "source": [
    "\"\"\"\n",
    "python脚本化语言\n",
    "pprint和print的区别就是:pprint可以格式化输出数据,更加美观;print仅仅是输出数据\n",
    "\"\"\"\n",
    "import pprint\n",
    "import tensorflow as tf\n",
    "\n",
    "flags = tf.app.flags\n",
    "\n",
    "# 脚本参数名，值，描述\n",
    "# 脚本参数有四种取值：整数，浮点数，字符串，布尔类型，也是相比argv模块高级\n",
    "flags.DEFINE_integer(\"epoch\",20, \"Epoch to train [25]\")\n",
    "flags.DEFINE_float(\"learning_rate\", 0.0002, \"Learning rate of for adam [0.0002]\")\n",
    "flags.DEFINE_string(\"sample_dir\", \"samples\", \"Directory name to save the image samples [samples]\")\n",
    "flags.DEFINE_boolean(\"train\", False, \"True for training, False for testing [False]\")\n",
    "\n",
    "FLAGS = flags.FLAGS  # 获取所有命令行参数\n",
    "\n",
    "\n",
    "# main必须带参数\n",
    "# 否则：'TypeError: main() takes no arguments (1 given)';\n",
    "# 其中main的参数名随意定义，无要求\n",
    "def main(_):\n",
    "    # flags.FLAGS.__flags为包含了所有输入的列表\n",
    "    pp = pprint.PrettyPrinter()  # 先定义一个格式输出\n",
    "    pp.pprint(flags.FLAGS.__flags)  # 输出所以定义的flag参数,__flags可以输出所有可选参数类型\n",
    "\n",
    "    # 也可以单个查询，格式为：FLAGS.参数名\n",
    "    if FLAGS.epoch is None:  # 如果其中一个使用None定义则被重新赋值了\n",
    "        FLAGS.epoch = 50\n",
    "    pp.pprint(FLAGS.epoch)  # 这个输出其中一个值\n",
    "\n",
    "if __name__ == '__main__':\n",
    "    # 下面的函数会自动调用main函数\n",
    "    tf.app.run()  # 这个run默认是运行main函数的,好像运行这句话以后就不往下运行程序了\n"
   ]
  },
  {
   "cell_type": "code",
   "execution_count": null,
   "metadata": {},
   "outputs": [],
   "source": []
  }
 ],
 "metadata": {
  "kernelspec": {
   "display_name": "Python 3",
   "language": "python",
   "name": "python3"
  },
  "language_info": {
   "codemirror_mode": {
    "name": "ipython",
    "version": 3
   },
   "file_extension": ".py",
   "mimetype": "text/x-python",
   "name": "python",
   "nbconvert_exporter": "python",
   "pygments_lexer": "ipython3",
   "version": "3.6.4"
  }
 },
 "nbformat": 4,
 "nbformat_minor": 2
}
