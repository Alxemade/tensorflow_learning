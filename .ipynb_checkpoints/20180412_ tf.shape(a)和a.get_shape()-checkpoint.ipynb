{
 "cells": [
  {
   "cell_type": "markdown",
   "metadata": {},
   "source": [
    "### 1. Tensorflow tf.shape(a)和a.get_shape()区别\n",
    "#### tf.shape(a)和a.get_shape()比较\n",
    "\n",
    "- 相同点：都可以得到tensor a的尺寸\n",
    "\n",
    "- 不同点：tf.shape()中a 数据的类型可以是tensor, list, array, a.get_shape()中a的数据类型只能是tensor,且返回的是一个元组（tuple）"
   ]
  },
  {
   "cell_type": "code",
   "execution_count": 11,
   "metadata": {},
   "outputs": [
    {
     "name": "stdout",
     "output_type": "stream",
     "text": [
      "(2, 3)\n"
     ]
    }
   ],
   "source": [
    "import tensorflow as tf \n",
    "import numpy as np\n",
    "\n",
    "x = tf.constant([[1,2,3],[4,5,6]])  # tensorflow中tensor\n",
    "y = [[1,2,3], [4,5,6]]  # list\n",
    "z = np.arange(24).reshape([2,3,4])  # numpy 中array\n",
    "\n",
    "sess = tf.Session()\n",
    "tf.shape\n",
    "x_shape = tf.shape(x)   # 这就表明了tf.shape里面的参数是可以多种多样的比如tensor,list,numpy而且返回值是一个tensor\n",
    "y_shape = tf.shape(y)\n",
    "z_shape = tf.shape(z)\n",
    "\n",
    "print(sess.run(x_shape))  # [2, 3]\n",
    "print(sess.run(y_shape))  # [2 3]\n",
    "print(sess.run(z_shape))  # [2 3 4]\n",
    "\n",
    "x_shape=x.get_shape()  # 返回的是TensorShape([Dimension(2), Dimension(3)]),不能使用 sess.run() 因为返回的不是tensor 或string,而是元组  \n",
    "print(x_shape)\n",
    "x_shape=x.get_shape().as_list()  # 可以使用 as_list()得到具体的尺寸，x_shape=[2 3]  \n",
    "# y_shape=y.get_shape()  # AttributeError: 'list' object has no attribute 'get_shape'  \n",
    "#z_shape=z.get_shape()  # 'numpy.ndarray' object has no attribute 'get_shape'"
   ]
  },
  {
   "cell_type": "code",
   "execution_count": null,
   "metadata": {
    "collapsed": true
   },
   "outputs": [],
   "source": []
  }
 ],
 "metadata": {
  "kernelspec": {
   "display_name": "Python 3",
   "language": "python",
   "name": "python3"
  },
  "language_info": {
   "codemirror_mode": {
    "name": "ipython",
    "version": 3
   },
   "file_extension": ".py",
   "mimetype": "text/x-python",
   "name": "python",
   "nbconvert_exporter": "python",
   "pygments_lexer": "ipython3",
   "version": "3.6.3"
  }
 },
 "nbformat": 4,
 "nbformat_minor": 2
}
