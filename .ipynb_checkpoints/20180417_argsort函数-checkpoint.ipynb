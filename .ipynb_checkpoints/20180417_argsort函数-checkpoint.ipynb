{
 "cells": [
  {
   "cell_type": "markdown",
   "metadata": {},
   "source": [
    "### numpy中argsort函数用法"
   ]
  },
  {
   "cell_type": "markdown",
   "metadata": {},
   "source": [
    "- 在Python中使用help帮助\n",
    "\n",
    "`\n",
    "import numpy\n",
    "help(numpy.argsort)\n",
    "`\n",
    "* Help on function argsort in module numpy.core.fromnumeric:\n",
    "\n",
    "\n",
    "- argsort(a, axis=-1, kind='quicksort', order=None)\n",
    "    Returns the indices that would sort an array.\n",
    "    \n",
    "    Perform an indirect sort along the given axis using the algorithm specified\n",
    "    by the \\`kind\\` keyword. It returns an array of indices of the same shape as\n",
    "    \\`a\\` that index data along the given axis in sorted order.\n",
    "\n",
    " 从中可以看出argsort函数返回的是数组值**从小到大**的索引值"
   ]
  },
  {
   "cell_type": "markdown",
   "metadata": {},
   "source": [
    "### 1.1 一维数组\n"
   ]
  },
  {
   "cell_type": "code",
   "execution_count": 1,
   "metadata": {},
   "outputs": [
    {
     "name": "stdout",
     "output_type": "stream",
     "text": [
      "[1 2 0]\n"
     ]
    }
   ],
   "source": [
    "import numpy as np\n",
    "x = np.array([3, 1, 2])\n",
    "print(np.argsort(x))  # 返回从小到大的索引值"
   ]
  },
  {
   "cell_type": "markdown",
   "metadata": {},
   "source": [
    "### 1.2 二维数组"
   ]
  },
  {
   "cell_type": "code",
   "execution_count": 5,
   "metadata": {},
   "outputs": [
    {
     "name": "stdout",
     "output_type": "stream",
     "text": [
      "[[0 3]\n",
      " [3 2]]\n",
      "[[0 1]\n",
      " [1 0]]\n",
      "[[0 1]\n",
      " [1 0]]\n"
     ]
    }
   ],
   "source": [
    "import numpy as np\n",
    "x = np.array([[0,3], [3, 2]])\n",
    "print(x)\n",
    "print(np.argsort(x, axis=0))  # axis=0表示按照列进行排序\n",
    "print(np.argsort(x, axis=1))  # axis=1表示按照行进行排序"
   ]
  },
  {
   "cell_type": "markdown",
   "metadata": {},
   "source": [
    "### 1.3 得到索引之后的值"
   ]
  },
  {
   "cell_type": "code",
   "execution_count": 10,
   "metadata": {},
   "outputs": [
    {
     "name": "stdout",
     "output_type": "stream",
     "text": [
      "[1 2 3]\n",
      "[3 2 1]\n"
     ]
    }
   ],
   "source": [
    "import numpy as np\n",
    "x = np.array([3, 1, 2])\n",
    "print(x[np.argsort(x)])  # 得到从小到大排序的值\n",
    "# print(x[np.argsort(-x)]) # 获得从大到小的值\n",
    "print(x[np.argsort(x)[::-1]])  # 这是在原来从小到大的顺序变成了从大到校小的顺序了"
   ]
  },
  {
   "cell_type": "code",
   "execution_count": null,
   "metadata": {
    "collapsed": true
   },
   "outputs": [],
   "source": []
  }
 ],
 "metadata": {
  "kernelspec": {
   "display_name": "Python 3",
   "language": "python",
   "name": "python3"
  },
  "language_info": {
   "codemirror_mode": {
    "name": "ipython",
    "version": 3
   },
   "file_extension": ".py",
   "mimetype": "text/x-python",
   "name": "python",
   "nbconvert_exporter": "python",
   "pygments_lexer": "ipython3",
   "version": "3.6.3"
  }
 },
 "nbformat": 4,
 "nbformat_minor": 2
}
