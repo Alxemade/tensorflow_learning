{
 "cells": [
  {
   "cell_type": "markdown",
   "metadata": {},
   "source": [
    "###  Numpy文件存取"
   ]
  },
  {
   "cell_type": "markdown",
   "metadata": {},
   "source": [
    "- Numpy能够读写磁盘上的文本数据或二进制数据。"
   ]
  },
  {
   "cell_type": "markdown",
   "metadata": {},
   "source": [
    "### 1 将数组以二进制格式保存到磁盘"
   ]
  },
  {
   "cell_type": "markdown",
   "metadata": {},
   "source": [
    "### 1. 1 np.load和np.save是读写磁盘数组数据的两个主要函数，默认情况下，数组是以**未压缩的原始二进制**格式保存在扩展名为.npy的文件中。"
   ]
  },
  {
   "cell_type": "code",
   "execution_count": 4,
   "metadata": {},
   "outputs": [
    {
     "name": "stdout",
     "output_type": "stream",
     "text": [
      "[[ 0  1  2  3  4]\n",
      " [ 5  6  7  8  9]\n",
      " [10 11 12 13 14]]\n",
      "[[ 0  1  2  3  4]\n",
      " [ 5  6  7  8  9]\n",
      " [10 11 12 13 14]]\n"
     ]
    }
   ],
   "source": [
    "import numpy as np\n",
    "A = np.arange(15).reshape(3, 5)\n",
    "print(A) \n",
    "np.save('A.npy', A)  # 将文件保存为npy类型,如果文件路径末尾没有扩展,则会被自动加上\n",
    "B = np.load('A.npy')  # 当文件保存为numpy专用的二进制格式之后,就不能用nodepad ++ 等在打开了\n",
    "print(B)"
   ]
  },
  {
   "cell_type": "markdown",
   "metadata": {},
   "source": [
    "### 1.2 np.savez()\n",
    "- 如果你想将多个数组保存到一个文件中的话，可以使用numpy.savez函数。savez函数的第一个参数是文件名，其后的参数都是需要保存的数组，也可以使用关键字参数为数组起一个名字，非关键字参数传递的数组会自动起名为arr_0, arr_1, …。savez函数输出的是一个压缩文件(扩展名为npz)，其中每个文件都是一个save函数保存的npy文件，文件名对应于数组名。load函数自动识别npz文件，并且返回一个类似于字典的对象，可以通过数组名作为关键字获取数组的内容："
   ]
  },
  {
   "cell_type": "code",
   "execution_count": 11,
   "metadata": {},
   "outputs": [
    {
     "name": "stdout",
     "output_type": "stream",
     "text": [
      "[[ 0  1  2  3  4]\n",
      " [ 5  6  7  8  9]\n",
      " [10 11 12 13 14]]\n",
      "[[ 0  1  2  3  4]\n",
      " [ 5  6  7  8  9]\n",
      " [10 11 12 13 14]]\n",
      "[1 0 1 0]\n"
     ]
    }
   ],
   "source": [
    "import numpy as np\n",
    "C = np.array([1,0,1,0])\n",
    "np.savez('files.npz', A, B, C_array=C)  # 默认是arr_0,arr_1然后可以使用命名关键字参数\n",
    "D = np.load(\"files.npz\")  # save in files.npz\n",
    "print(D[\"arr_0\"])  \n",
    "print(D[\"arr_1\"])\n",
    "# print(D[\"arr_2\"]) # arr_2 is not a file in the archive\n",
    "print(D[\"C_array\"]) # we can use in this way"
   ]
  },
  {
   "cell_type": "markdown",
   "metadata": {},
   "source": [
    "* 如果你用解压软件打开files.npz文件的话，会发现其中有三个文件：arr_0.npy， arr_1.npy， C_array.npy，其中分别保存着数组A,B,C的内容。"
   ]
  },
  {
   "cell_type": "markdown",
   "metadata": {},
   "source": [
    "### 2 存取文本文件"
   ]
  },
  {
   "cell_type": "markdown",
   "metadata": {},
   "source": [
    "* np.loadtxt和np.savetxt可以读写1维和2维的数组\n",
    "* 同时可以指定各种分隔符、针对特定列的转换器函数、需要跳过的行数等。\n",
    "\n",
    "`\n",
    "np.loadtxt(FILENAME, dtype=int, delimiter=' ')\n",
    "np.savetxt(\"a.txt\", a, fmt=\"%d\", delimiter=\",\")\n",
    "`"
   ]
  },
  {
   "cell_type": "code",
   "execution_count": 15,
   "metadata": {},
   "outputs": [
    {
     "name": "stdout",
     "output_type": "stream",
     "text": [
      "[[0 1 2 3 4]\n",
      " [5 6 7 8 9]]\n",
      "[[ 0.  1.  2.  3.  4.]\n",
      " [ 5.  6.  7.  8.  9.]]\n"
     ]
    }
   ],
   "source": [
    "import numpy as np\n",
    "a = np.arange(0,10).reshape(2, -1)\n",
    "print(a)\n",
    "np.savetxt(\"a.txt\", a) # defalut save as %.18e \n",
    "b = np.loadtxt(\"a.txt\")  # restore the data\n",
    "print(b)"
   ]
  },
  {
   "cell_type": "code",
   "execution_count": 17,
   "metadata": {},
   "outputs": [
    {
     "name": "stdout",
     "output_type": "stream",
     "text": [
      "[[ 0.   0.5  1.   1.5  2. ]\n",
      " [ 2.5  3.   3.5  4.   4.5]\n",
      " [ 5.   5.5  6.   6.5  7. ]\n",
      " [ 7.5  8.   8.5  9.   9.5]]\n",
      "[[ 0.  0.  1.  1.  2.]\n",
      " [ 2.  3.  3.  4.  4.]\n",
      " [ 5.  5.  6.  6.  7.]\n",
      " [ 7.  8.  8.  9.  9.]]\n"
     ]
    }
   ],
   "source": [
    "import numpy as np\n",
    "a = np.arange(0,10,0.5).reshape(4, -1)\n",
    "print(a)\n",
    "np.savetxt(\"a.txt\", a,fmt=\"%d\") # defalut save as %.18e \n",
    "b = np.loadtxt(\"a.txt\")  # restore the data\n",
    "print(b)"
   ]
  },
  {
   "cell_type": "code",
   "execution_count": null,
   "metadata": {
    "collapsed": true
   },
   "outputs": [],
   "source": []
  }
 ],
 "metadata": {
  "kernelspec": {
   "display_name": "Python 3",
   "language": "python",
   "name": "python3"
  },
  "language_info": {
   "codemirror_mode": {
    "name": "ipython",
    "version": 3
   },
   "file_extension": ".py",
   "mimetype": "text/x-python",
   "name": "python",
   "nbconvert_exporter": "python",
   "pygments_lexer": "ipython3",
   "version": "3.6.3"
  }
 },
 "nbformat": 4,
 "nbformat_minor": 2
}
