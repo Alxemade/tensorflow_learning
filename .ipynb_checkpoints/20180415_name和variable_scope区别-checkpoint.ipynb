{
 "cells": [
  {
   "cell_type": "markdown",
   "metadata": {},
   "source": [
    "## 充分理解name和variable_scope"
   ]
  },
  {
   "cell_type": "markdown",
   "metadata": {},
   "source": [
    "###  1.1 问题: 首先当我们定义一个神经网络的时候,很多时候网络的参数很多,这个时候网络可能显示出杂乱无章"
   ]
  },
  {
   "cell_type": "markdown",
   "metadata": {},
   "source": [
    "### 1.2 为了解决这个问题，我们引入了 name_scope 和 variable_scope， 二者又分别承担着不同的责任：\n",
    "\n",
    "* name_scope: * 为了更好地管理变量的命名空间而提出的。比如在 tensorboard 中，因为引入了 name_scope， 我们的 Graph 看起来才井然有序。\n",
    "* variable_scope: * 大大大部分情况下，跟 tf.get_variable() 配合使用，实现变量共享的功能"
   ]
  },
  {
   "cell_type": "markdown",
   "metadata": {},
   "source": [
    "### 2.1 三种方式定义变量区别 \n",
    "* tf.placeholder()\n",
    "* tf.Variable()\n",
    "* tf.get_variable()"
   ]
  },
  {
   "cell_type": "code",
   "execution_count": 9,
   "metadata": {},
   "outputs": [
    {
     "name": "stdout",
     "output_type": "stream",
     "text": [
      "Placeholder_7:0\n",
      "ph_12:0\n",
      "ph_13:0\n",
      "<class 'tensorflow.python.framework.ops.Tensor'>\n",
      "Tensor(\"ph_13:0\", shape=(2, 3, 4), dtype=float32)\n"
     ]
    }
   ],
   "source": [
    "# 1 placeholder\n",
    "import tensorflow as tf\n",
    "v1 = tf.placeholder(tf.float32, shape=[2, 3, 4])\n",
    "print(v1.name)\n",
    "v1 = tf.placeholder(tf.float32, shape=[2, 3, 4],name='ph')\n",
    "print(v1.name)\n",
    "v1 = tf.placeholder(tf.float32, shape=[2, 3, 4],name='ph')\n",
    "print(v1.name)\n",
    "print(type(v1))\n",
    "print(v1)"
   ]
  },
  {
   "cell_type": "code",
   "execution_count": 15,
   "metadata": {},
   "outputs": [
    {
     "name": "stdout",
     "output_type": "stream",
     "text": [
      "Variable_1:0\n",
      "V_2:0\n",
      "x:0\n",
      "<class 'tensorflow.python.ops.variables.Variable'>\n",
      "<tf.Variable 'x:0' shape=(2,) dtype=float32_ref>\n"
     ]
    }
   ],
   "source": [
    "# 2 tf.Variable()\n",
    "v2 = tf.Variable([1,2],dtype=tf.float32)\n",
    "print(v2.name)\n",
    "v2 = tf.Variable([1,2],dtype=tf.float32,name='V')\n",
    "print(v2.name)\n",
    "v2 = tf.Variable([1,2],dtype=tf.float32,name='x')\n",
    "print(v2.name)\n",
    "print(type(v2))\n",
    "print(v2)"
   ]
  },
  {
   "cell_type": "code",
   "execution_count": 4,
   "metadata": {
    "collapsed": true
   },
   "outputs": [],
   "source": [
    "# 3. tf.get_variable() 创建变量的时候需要提供name\n",
    "import tensorflow as tf\n",
    "v3 = tf.get_variable(name='gv',shape=[])\n",
    "print(v3.name)\n",
    "v4 = tf.get_variable(name='gf',shape=[])\n",
    "print(v4.name)\n",
    "\n",
    "## 反正就是显示一大堆错误"
   ]
  },
  {
   "cell_type": "markdown",
   "metadata": {},
   "source": [
    "#### 2.2 从上面的实验结果来看，这三种方式所定义的变量具有相同的类型。而且只有 tf.get_variable() 创建的变量之间会发生命名冲突。在实\n",
    "际使用中，三种创建变量方式的用途也是分工非常明确的。其中\n",
    "\n",
    "* tf.placeholder() 占位符。* trainable==False *\n",
    "* tf.Variable() 一般变量用这种方式定义。 * 可以选择 trainable 类型 *\n",
    "* tf.get_variable() 一般都是和 tf.variable_scope() 配合使用，从而实现变量共享的功能。 * 可以选择 trainable 类型 *"
   ]
  },
  {
   "cell_type": "markdown",
   "metadata": {},
   "source": [
    "### 3.1  熟悉name_scope和variable_scope区别\n"
   ]
  },
  {
   "cell_type": "code",
   "execution_count": 1,
   "metadata": {
    "collapsed": true
   },
   "outputs": [],
   "source": [
    "import tensorflow as tf\n",
    "with tf.name_scope('nsc1'):\n",
    "    v1 = tf.Variable([1], name='v1')\n",
    "    with tf.variable_scope('vsc1'):\n",
    "        v2 = tf.Variable([1], name='v2')\n",
    "        v3 = tf.get_variable(name='v3', shape=[])\n",
    "print('v1.name: '+ v1.name)\n",
    "print('v2.name: ' + v2.name)\n",
    "print ('v3.name: ' + v3.name)\n",
    "\n",
    "# v1.name:  nsc1/v1:0\n",
    "# v2.name:  nsc1/vsc1/v2:0\n",
    "# v3.name:  vsc1/v3:0\n",
    "with tf.name_scope('nsc1'):\n",
    "    v4 = tf.Variable([1], name='v4')\n",
    "print('v4.name: ' + v4.name)\n",
    "# v4.name:  nsc1_1/v4:0"
   ]
  },
  {
   "cell_type": "code",
   "execution_count": 8,
   "metadata": {
    "collapsed": true
   },
   "outputs": [],
   "source": [
    "import tensorflow as tf\n",
    "with tf.variable_scope(\"foo\"):\n",
    "      v = tf.get_variable(\"v1\", [1])\n",
    "with tf.variable_scope(\"foo\", reuse=True):  #表示使用了共享变量了\n",
    "      v1 = tf.get_variable(\"v1\", [1])\n",
    "assert v1 == v"
   ]
  },
  {
   "cell_type": "code",
   "execution_count": null,
   "metadata": {
    "collapsed": true
   },
   "outputs": [],
   "source": []
  }
 ],
 "metadata": {
  "kernelspec": {
   "display_name": "Python 3",
   "language": "python",
   "name": "python3"
  },
  "language_info": {
   "codemirror_mode": {
    "name": "ipython",
    "version": 3
   },
   "file_extension": ".py",
   "mimetype": "text/x-python",
   "name": "python",
   "nbconvert_exporter": "python",
   "pygments_lexer": "ipython3",
   "version": "3.6.3"
  }
 },
 "nbformat": 4,
 "nbformat_minor": 2
}
