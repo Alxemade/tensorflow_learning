{
 "cells": [
  {
   "cell_type": "markdown",
   "metadata": {},
   "source": [
    "# tensorflow使用一些总结"
   ]
  },
  {
   "cell_type": "markdown",
   "metadata": {},
   "source": [
    "## 2018-4-3 "
   ]
  },
  {
   "cell_type": "markdown",
   "metadata": {},
   "source": [
    "## (1)问题\n",
    "- 将tf.random_normal传入给tf.constant发生错误,**TypeError: List of Tensors when single Tensor expected**"
   ]
  },
  {
   "cell_type": "code",
   "execution_count": 4,
   "metadata": {},
   "outputs": [],
   "source": [
    "import tensorflow as tf\n",
    "# a = tf.constant(tf.random_normal([2, 2]))     运行该代码出现错误\n",
    "# print(a)"
   ]
  },
  {
   "cell_type": "markdown",
   "metadata": {},
   "source": [
    "## (2)出现问题原因\n",
    "[参考文章](https://stackoverflow.com/questions/35661677/tensorflow-generating-a-random-constant/35662013#35662013)"
   ]
  },
  {
   "cell_type": "markdown",
   "metadata": {},
   "source": [
    "#### 1 首先查看tf.random_normal函数定义:\n",
    "\n",
    "`def random_normal(shape,\n",
    "                  mean=0.0,\n",
    "                  stddev=1.0,\n",
    "                  dtype=dtypes.float32,\n",
    "                  seed=None,\n",
    "                  name=None):\n",
    "`\n",
    "- Returns: A tensor of the specified shape filled with random normal values.\n",
    "\n",
    "#### 2 查看tf.constant函数定义:\n",
    "` def constant(value, dtype=None, shape=None, name=\"Const\", verify_shape=False) `\n",
    "- value:          **A constant value (or list)** of output type \\`dtype\\`.\n",
    "- Returns: A Constant Tensor.\n",
    "\n",
    "**结论:** 因为tf.random_normal返回值是一个Tensor,但是tf.constat传入的形参是list二者类型是不匹配的,所以出现错误"
   ]
  },
  {
   "cell_type": "markdown",
   "metadata": {},
   "source": [
    "## (3)解决"
   ]
  },
  {
   "cell_type": "markdown",
   "metadata": {},
   "source": [
    "### 方法1:\n",
    "####  Use NumPy to generate the random value and put it in a tf.constant()<br/>\n",
    "`\n",
    "some_test = tf.constant(\n",
    "    np.random.normal(loc=0.0, scale=1.0, size=(2, 2)).astype(np.float32))\n",
    "`\n",
    "### 方法2:\n",
    "#### (Potentially faster, as it can use the GPU to generate the random numbers) Use TensorFlow to generate the random value and put it in a tf.Variable:\n",
    "`\n",
    "some_test = tf.Variable(\n",
    "    tf.random_normal([2, 2], mean=0.0, stddev=1.0, dtype=tf.float32)\n",
    "sess.run(some_test.initializer) \n",
    "`\n",
    "\n",
    "#### 查看tf.Variable函数定义:\n",
    "`\n",
    "def __init__(self,\n",
    "               initial_value=None,\n",
    "               trainable=True,\n",
    "               collections=None,\n",
    "               validate_shape=True,\n",
    "               caching_device=None,\n",
    "               name=None,\n",
    "               variable_def=None,\n",
    "               dtype=None,\n",
    "               expected_shape=None,\n",
    "               import_scope=None,\n",
    "               constraint=None):\n",
    "               ...\n",
    "               )\n",
    "`\n",
    "- args: initial_value: A \\`Tensor\\`, or Python object convertible to a \\`Tensor\\`,which is the initial value for the Variable.\n"
   ]
  },
  {
   "cell_type": "code",
   "execution_count": null,
   "metadata": {},
   "outputs": [],
   "source": []
  }
 ],
 "metadata": {
  "kernelspec": {
   "display_name": "Python 3",
   "language": "python",
   "name": "python3"
  },
  "language_info": {
   "codemirror_mode": {
    "name": "ipython",
    "version": 3
   },
   "file_extension": ".py",
   "mimetype": "text/x-python",
   "name": "python",
   "nbconvert_exporter": "python",
   "pygments_lexer": "ipython3",
   "version": "3.6.4"
  }
 },
 "nbformat": 4,
 "nbformat_minor": 2
}
