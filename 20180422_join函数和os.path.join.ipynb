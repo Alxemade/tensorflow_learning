{
 "cells": [
  {
   "cell_type": "markdown",
   "metadata": {},
   "source": [
    "### python中的join和os.path.join用法"
   ]
  },
  {
   "cell_type": "markdown",
   "metadata": {},
   "source": [
    "* join：连接字符串数组。将字符串、元组、列表中的元素以指定的字符(分隔符)连接生成一个新的字符串\n",
    "* os.path.join()：  将多个路径组合后返回"
   ]
  },
  {
   "cell_type": "markdown",
   "metadata": {},
   "source": [
    "### 1、join()函数\n",
    "\n",
    "- 语法：  'sep'.join(seq)\n",
    "\n",
    "* sep：分隔符,可以为空,另外还有:等等\n",
    "* seq：要连接的元素序列、字符串、元组、字典\n",
    "* 上面的语法即：以sep作为分隔符，将seq所有的元素合并成一个新的字符串\n",
    "* 返回值：返回一个以分隔符sep连接各个元素后生成的字符串"
   ]
  },
  {
   "cell_type": "code",
   "execution_count": 3,
   "metadata": {},
   "outputs": [
    {
     "name": "stdout",
     "output_type": "stream",
     "text": [
      "hello good boy doiido\n",
      "hello,good,boy,doiido\n"
     ]
    }
   ],
   "source": [
    "# #对序列进行操作（分别使用' '与':'作为分隔符）\n",
    "seq1 = ['hello','good','boy','doiido']\n",
    "print(' '.join(seq1))  # 这里我们使用了空格进行了连接\n",
    "print(','.join(seq1))  # 这里我们使用,号进行了连接"
   ]
  },
  {
   "cell_type": "code",
   "execution_count": 6,
   "metadata": {},
   "outputs": [
    {
     "name": "stdout",
     "output_type": "stream",
     "text": [
      "h:e:l:l:o: :g:o:o:d: :b:o:y: :d:o:i:i:d:o\n"
     ]
    }
   ],
   "source": [
    "#对字符串进行操作\n",
    "seq2 = \"hello good boy doiido\"\n",
    "print(\":\".join(seq2))  # 对于字符串来说,相当于对每一个字符进行操作"
   ]
  },
  {
   "cell_type": "code",
   "execution_count": 7,
   "metadata": {},
   "outputs": [
    {
     "name": "stdout",
     "output_type": "stream",
     "text": [
      "hello:good:boy:doiido\n"
     ]
    }
   ],
   "source": [
    "#对元组进行操作\n",
    "seq3 = ('hello','good','boy','doiido')  # the same as 序列\n",
    "print(':'.join(seq3))"
   ]
  },
  {
   "cell_type": "code",
   "execution_count": 8,
   "metadata": {},
   "outputs": [
    {
     "name": "stdout",
     "output_type": "stream",
     "text": [
      "hello:good:boy:doiido\n"
     ]
    }
   ],
   "source": [
    "#对字典进行操作\n",
    "seq4 = {'hello':1,'good':2,'boy':3,'doiido':4}\n",
    "print(':'.join(seq4))"
   ]
  },
  {
   "cell_type": "markdown",
   "metadata": {},
   "source": [
    "### 2、os.path.join()函数\n",
    "\n",
    "* 语法：  os.path.join(path1[,path2[,......]])\n",
    "\n",
    "* 返回值：将多个路径组合后返回\n",
    "\n",
    "* 注：第一个绝对路径之前的参数将被忽略"
   ]
  },
  {
   "cell_type": "code",
   "execution_count": 16,
   "metadata": {},
   "outputs": [
    {
     "data": {
      "text/plain": [
       "'hello/good/boy/doiido'"
      ]
     },
     "execution_count": 16,
     "metadata": {},
     "output_type": "execute_result"
    }
   ],
   "source": [
    "import os\n",
    "os.path.join('hello/','good/boy/','doiido')"
   ]
  },
  {
   "cell_type": "code",
   "execution_count": null,
   "metadata": {
    "collapsed": true
   },
   "outputs": [],
   "source": []
  }
 ],
 "metadata": {
  "kernelspec": {
   "display_name": "Python 3",
   "language": "python",
   "name": "python3"
  },
  "language_info": {
   "codemirror_mode": {
    "name": "ipython",
    "version": 3
   },
   "file_extension": ".py",
   "mimetype": "text/x-python",
   "name": "python",
   "nbconvert_exporter": "python",
   "pygments_lexer": "ipython3",
   "version": "3.6.3"
  }
 },
 "nbformat": 4,
 "nbformat_minor": 2
}
